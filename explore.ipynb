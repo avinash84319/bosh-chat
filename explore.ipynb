{
 "cells": [
  {
   "cell_type": "code",
   "execution_count": 18,
   "metadata": {},
   "outputs": [],
   "source": [
    "from langchain.vectorstores import Qdrant\n",
    "from langchain.embeddings import HuggingFaceBgeEmbeddings\n",
    "from langchain.document_loaders import PyPDFLoader\n",
    "from langchain.text_splitter import RecursiveCharacterTextSplitter\n",
    "from qdrant_client import QdrantClient"
   ]
  },
  {
   "cell_type": "code",
   "execution_count": 2,
   "metadata": {},
   "outputs": [],
   "source": [
    "loader=PyPDFLoader(\"pdfs/nexon-owner-manual-2022.pdf\")\n",
    "documents=loader.load()"
   ]
  },
  {
   "cell_type": "code",
   "execution_count": 4,
   "metadata": {},
   "outputs": [],
   "source": [
    "from typing import Any\n",
    "from pydantic import BaseModel"
   ]
  },
  {
   "cell_type": "code",
   "execution_count": 5,
   "metadata": {},
   "outputs": [
    {
     "name": "stderr",
     "output_type": "stream",
     "text": [
      "Some weights of the model checkpoint at microsoft/table-transformer-structure-recognition were not used when initializing TableTransformerForObjectDetection: ['model.backbone.conv_encoder.model.layer2.0.downsample.1.num_batches_tracked', 'model.backbone.conv_encoder.model.layer3.0.downsample.1.num_batches_tracked', 'model.backbone.conv_encoder.model.layer4.0.downsample.1.num_batches_tracked']\n",
      "- This IS expected if you are initializing TableTransformerForObjectDetection from the checkpoint of a model trained on another task or with another architecture (e.g. initializing a BertForSequenceClassification model from a BertForPreTraining model).\n",
      "- This IS NOT expected if you are initializing TableTransformerForObjectDetection from the checkpoint of a model that you expect to be exactly identical (initializing a BertForSequenceClassification model from a BertForSequenceClassification model).\n"
     ]
    }
   ],
   "source": [
    "from unstructured.partition.pdf import partition_pdf\n",
    "\n",
    "output_dir = \"images\"\n",
    "\n",
    "# Get elements\n",
    "raw_pdf_elements = partition_pdf(\n",
    "    filename=\"pdfs/nexon-owner-manual-2022.pdf\",\n",
    "    # Using pdf format to find embedded image blocks\n",
    "    extract_images_in_pdf=True,\n",
    "    # Use layout model (YOLOX) to get bounding boxes (for tables) and find titles\n",
    "    # Titles are any sub-section of the document\n",
    "    infer_table_structure=True,\n",
    "    # Post processing to aggregate text once we have the title\n",
    "    chunking_strategy=\"by_title\",\n",
    "    # Chunking params to aggregate text blocks\n",
    "    # Attempt to create a new chunk 3800 chars\n",
    "    # Attempt to keep chunks > 2000 chars\n",
    "    # Hard max on chunks\n",
    "    max_characters=4000,\n",
    "    new_after_n_chars=3800,\n",
    "    combine_text_under_n_chars=2000,\n",
    "    image_output_dir_path=output_dir,\n",
    ")"
   ]
  },
  {
   "cell_type": "code",
   "execution_count": 6,
   "metadata": {},
   "outputs": [
    {
     "data": {
      "text/plain": [
       "[<unstructured.documents.elements.CompositeElement at 0x7ff1f07248b0>,\n",
       " <unstructured.documents.elements.CompositeElement at 0x7ff1f0724790>,\n",
       " <unstructured.documents.elements.Table at 0x7ff1f0724940>,\n",
       " <unstructured.documents.elements.CompositeElement at 0x7ff1f07247f0>,\n",
       " <unstructured.documents.elements.Table at 0x7ff1f0724c10>,\n",
       " <unstructured.documents.elements.CompositeElement at 0x7ff1f0724fd0>,\n",
       " <unstructured.documents.elements.Table at 0x7ff1f0724dc0>,\n",
       " <unstructured.documents.elements.CompositeElement at 0x7ff1f0725330>,\n",
       " <unstructured.documents.elements.Table at 0x7ff1f0725210>,\n",
       " <unstructured.documents.elements.CompositeElement at 0x7ff1f07251b0>,\n",
       " <unstructured.documents.elements.Table at 0x7ff1f07256f0>,\n",
       " <unstructured.documents.elements.CompositeElement at 0x7ff1f0725a50>,\n",
       " <unstructured.documents.elements.Table at 0x7ff1f0725930>,\n",
       " <unstructured.documents.elements.CompositeElement at 0x7ff1f0725de0>,\n",
       " <unstructured.documents.elements.Table at 0x7ff1f0725cc0>,\n",
       " <unstructured.documents.elements.CompositeElement at 0x7ff1f0726170>,\n",
       " <unstructured.documents.elements.Table at 0x7ff1f0726050>,\n",
       " <unstructured.documents.elements.CompositeElement at 0x7ff1f0726500>,\n",
       " <unstructured.documents.elements.Table at 0x7ff1f07263e0>,\n",
       " <unstructured.documents.elements.CompositeElement at 0x7ff1f0726890>,\n",
       " <unstructured.documents.elements.Table at 0x7ff1f0726770>,\n",
       " <unstructured.documents.elements.CompositeElement at 0x7ff1f0726c20>,\n",
       " <unstructured.documents.elements.Table at 0x7ff1f0726b00>,\n",
       " <unstructured.documents.elements.CompositeElement at 0x7ff1f0726fb0>,\n",
       " <unstructured.documents.elements.Table at 0x7ff1f0726e90>,\n",
       " <unstructured.documents.elements.CompositeElement at 0x7ff1f0726e30>,\n",
       " <unstructured.documents.elements.Table at 0x7ff1f0727340>,\n",
       " <unstructured.documents.elements.CompositeElement at 0x7ff1f07276d0>,\n",
       " <unstructured.documents.elements.Table at 0x7ff1f07275b0>,\n",
       " <unstructured.documents.elements.CompositeElement at 0x7ff1f0727a60>,\n",
       " <unstructured.documents.elements.Table at 0x7ff1f0727940>,\n",
       " <unstructured.documents.elements.CompositeElement at 0x7ff1f0727cd0>,\n",
       " <unstructured.documents.elements.CompositeElement at 0x7ff1f0727f70>,\n",
       " <unstructured.documents.elements.CompositeElement at 0x7ff1f0727c70>,\n",
       " <unstructured.documents.elements.CompositeElement at 0x7ff1f05500d0>,\n",
       " <unstructured.documents.elements.CompositeElement at 0x7ff1f0550070>,\n",
       " <unstructured.documents.elements.CompositeElement at 0x7ff1f0550220>,\n",
       " <unstructured.documents.elements.CompositeElement at 0x7ff1f05502b0>,\n",
       " <unstructured.documents.elements.Table at 0x7ff1f0550100>,\n",
       " <unstructured.documents.elements.CompositeElement at 0x7ff1f0550400>,\n",
       " <unstructured.documents.elements.CompositeElement at 0x7ff1f0550550>,\n",
       " <unstructured.documents.elements.CompositeElement at 0x7ff1f05507c0>,\n",
       " <unstructured.documents.elements.CompositeElement at 0x7ff1f05507f0>,\n",
       " <unstructured.documents.elements.CompositeElement at 0x7ff1f0550820>,\n",
       " <unstructured.documents.elements.CompositeElement at 0x7ff1f05508e0>,\n",
       " <unstructured.documents.elements.Table at 0x7ff1f0550970>,\n",
       " <unstructured.documents.elements.CompositeElement at 0x7ff1f05509a0>,\n",
       " <unstructured.documents.elements.CompositeElement at 0x7ff1f0550d00>,\n",
       " <unstructured.documents.elements.CompositeElement at 0x7ff1f0550e20>,\n",
       " <unstructured.documents.elements.CompositeElement at 0x7ff1f0550d30>,\n",
       " <unstructured.documents.elements.CompositeElement at 0x7ff1f0550dc0>,\n",
       " <unstructured.documents.elements.CompositeElement at 0x7ff1f0550c70>,\n",
       " <unstructured.documents.elements.CompositeElement at 0x7ff1f0550f10>,\n",
       " <unstructured.documents.elements.CompositeElement at 0x7ff1f0551060>,\n",
       " <unstructured.documents.elements.CompositeElement at 0x7ff1f0550e50>,\n",
       " <unstructured.documents.elements.CompositeElement at 0x7ff1f05510c0>,\n",
       " <unstructured.documents.elements.CompositeElement at 0x7ff1f05511e0>,\n",
       " <unstructured.documents.elements.CompositeElement at 0x7ff1f05512a0>,\n",
       " <unstructured.documents.elements.CompositeElement at 0x7ff1f0551330>,\n",
       " <unstructured.documents.elements.CompositeElement at 0x7ff1f0551300>,\n",
       " <unstructured.documents.elements.CompositeElement at 0x7ff1f0550fa0>,\n",
       " <unstructured.documents.elements.CompositeElement at 0x7ff1f0551360>,\n",
       " <unstructured.documents.elements.Table at 0x7ff1f05514e0>,\n",
       " <unstructured.documents.elements.CompositeElement at 0x7ff1f05514b0>,\n",
       " <unstructured.documents.elements.Table at 0x7ff1f0551780>,\n",
       " <unstructured.documents.elements.CompositeElement at 0x7ff1f0551b10>,\n",
       " <unstructured.documents.elements.Table at 0x7ff1f05519f0>,\n",
       " <unstructured.documents.elements.CompositeElement at 0x7ff1f0551990>,\n",
       " <unstructured.documents.elements.Table at 0x7ff1f0551ea0>,\n",
       " <unstructured.documents.elements.CompositeElement at 0x7ff1f0552230>,\n",
       " <unstructured.documents.elements.Table at 0x7ff1f0552110>,\n",
       " <unstructured.documents.elements.CompositeElement at 0x7ff1f05520b0>,\n",
       " <unstructured.documents.elements.Table at 0x7ff1f05525c0>,\n",
       " <unstructured.documents.elements.CompositeElement at 0x7ff1f0552950>,\n",
       " <unstructured.documents.elements.Table at 0x7ff1f0552830>,\n",
       " <unstructured.documents.elements.CompositeElement at 0x7ff1f05527d0>,\n",
       " <unstructured.documents.elements.Table at 0x7ff1f0552ce0>,\n",
       " <unstructured.documents.elements.CompositeElement at 0x7ff1f0553160>,\n",
       " <unstructured.documents.elements.CompositeElement at 0x7ff1f05530a0>,\n",
       " <unstructured.documents.elements.CompositeElement at 0x7ff1f0552e60>,\n",
       " <unstructured.documents.elements.Table at 0x7ff1f05532e0>,\n",
       " <unstructured.documents.elements.CompositeElement at 0x7ff1f0552f50>,\n",
       " <unstructured.documents.elements.Table at 0x7ff1f0553550>,\n",
       " <unstructured.documents.elements.CompositeElement at 0x7ff1f05538b0>,\n",
       " <unstructured.documents.elements.Table at 0x7ff1f0553790>,\n",
       " <unstructured.documents.elements.CompositeElement at 0x7ff1f0553730>,\n",
       " <unstructured.documents.elements.Table at 0x7ff1f0553c40>,\n",
       " <unstructured.documents.elements.CompositeElement at 0x7ff1f0553b20>,\n",
       " <unstructured.documents.elements.Table at 0x7ff1f0553eb0>,\n",
       " <unstructured.documents.elements.CompositeElement at 0x7ff1f05843d0>,\n",
       " <unstructured.documents.elements.Table at 0x7ff1f0584100>,\n",
       " <unstructured.documents.elements.CompositeElement at 0x7ff1f0584490>,\n",
       " <unstructured.documents.elements.Table at 0x7ff1f0584520>,\n",
       " <unstructured.documents.elements.CompositeElement at 0x7ff1f0584820>,\n",
       " <unstructured.documents.elements.Table at 0x7ff1f0584ac0>,\n",
       " <unstructured.documents.elements.CompositeElement at 0x7ff1f0584cd0>,\n",
       " <unstructured.documents.elements.CompositeElement at 0x7ff1f0585000>,\n",
       " <unstructured.documents.elements.CompositeElement at 0x7ff1f0584bb0>,\n",
       " <unstructured.documents.elements.CompositeElement at 0x7ff1f0585090>,\n",
       " <unstructured.documents.elements.CompositeElement at 0x7ff1f05851b0>,\n",
       " <unstructured.documents.elements.CompositeElement at 0x7ff1f0585270>,\n",
       " <unstructured.documents.elements.CompositeElement at 0x7ff1f0585300>,\n",
       " <unstructured.documents.elements.CompositeElement at 0x7ff1f0585360>,\n",
       " <unstructured.documents.elements.CompositeElement at 0x7ff1f0585390>,\n",
       " <unstructured.documents.elements.CompositeElement at 0x7ff1f0585450>,\n",
       " <unstructured.documents.elements.CompositeElement at 0x7ff1f0585420>,\n",
       " <unstructured.documents.elements.CompositeElement at 0x7ff1f0585510>,\n",
       " <unstructured.documents.elements.CompositeElement at 0x7ff1f0585480>,\n",
       " <unstructured.documents.elements.CompositeElement at 0x7ff1f0585750>,\n",
       " <unstructured.documents.elements.CompositeElement at 0x7ff1f0585720>,\n",
       " <unstructured.documents.elements.CompositeElement at 0x7ff1f0585840>,\n",
       " <unstructured.documents.elements.Table at 0x7ff1f0585600>,\n",
       " <unstructured.documents.elements.CompositeElement at 0x7ff1f0585ae0>,\n",
       " <unstructured.documents.elements.CompositeElement at 0x7ff1f0585ab0>,\n",
       " <unstructured.documents.elements.Table at 0x7ff1f0585c60>,\n",
       " <unstructured.documents.elements.CompositeElement at 0x7ff1f0585870>,\n",
       " <unstructured.documents.elements.Table at 0x7ff1f0585c90>,\n",
       " <unstructured.documents.elements.CompositeElement at 0x7ff1f0585d20>,\n",
       " <unstructured.documents.elements.Table at 0x7ff1f05860e0>,\n",
       " <unstructured.documents.elements.CompositeElement at 0x7ff1f05865f0>,\n",
       " <unstructured.documents.elements.CompositeElement at 0x7ff1f05864d0>,\n",
       " <unstructured.documents.elements.Table at 0x7ff1f0586470>,\n",
       " <unstructured.documents.elements.CompositeElement at 0x7ff1f0586860>,\n",
       " <unstructured.documents.elements.CompositeElement at 0x7ff1f0586b00>,\n",
       " <unstructured.documents.elements.CompositeElement at 0x7ff1f0586c20>,\n",
       " <unstructured.documents.elements.Table at 0x7ff1f0586890>,\n",
       " <unstructured.documents.elements.CompositeElement at 0x7ff1f0586d10>,\n",
       " <unstructured.documents.elements.CompositeElement at 0x7ff1f0586c80>,\n",
       " <unstructured.documents.elements.CompositeElement at 0x7ff1f0587160>,\n",
       " <unstructured.documents.elements.CompositeElement at 0x7ff1f0587100>,\n",
       " <unstructured.documents.elements.CompositeElement at 0x7ff1f0587280>,\n",
       " <unstructured.documents.elements.CompositeElement at 0x7ff1f0587190>,\n",
       " <unstructured.documents.elements.CompositeElement at 0x7ff1f05872e0>,\n",
       " <unstructured.documents.elements.CompositeElement at 0x7ff1f0587370>,\n",
       " <unstructured.documents.elements.CompositeElement at 0x7ff1f0587430>,\n",
       " <unstructured.documents.elements.CompositeElement at 0x7ff1f05874c0>,\n",
       " <unstructured.documents.elements.CompositeElement at 0x7ff1f05873a0>,\n",
       " <unstructured.documents.elements.CompositeElement at 0x7ff1f05875e0>,\n",
       " <unstructured.documents.elements.CompositeElement at 0x7ff1f0587460>,\n",
       " <unstructured.documents.elements.CompositeElement at 0x7ff1f0587550>,\n",
       " <unstructured.documents.elements.CompositeElement at 0x7ff1f05876a0>,\n",
       " <unstructured.documents.elements.CompositeElement at 0x7ff1f05877f0>,\n",
       " <unstructured.documents.elements.CompositeElement at 0x7ff1f05874f0>,\n",
       " <unstructured.documents.elements.CompositeElement at 0x7ff1f05878e0>,\n",
       " <unstructured.documents.elements.CompositeElement at 0x7ff1f0587820>,\n",
       " <unstructured.documents.elements.Table at 0x7ff1f0587a30>,\n",
       " <unstructured.documents.elements.CompositeElement at 0x7ff1f0587af0>,\n",
       " <unstructured.documents.elements.CompositeElement at 0x7ff1f0587b50>,\n",
       " <unstructured.documents.elements.Table at 0x7ff1f0587ac0>,\n",
       " <unstructured.documents.elements.CompositeElement at 0x7ff1f0587fd0>,\n",
       " <unstructured.documents.elements.CompositeElement at 0x7ff1f0587f70>,\n",
       " <unstructured.documents.elements.CompositeElement at 0x7ff1f05b42b0>,\n",
       " <unstructured.documents.elements.CompositeElement at 0x7ff1f05b4370>,\n",
       " <unstructured.documents.elements.CompositeElement at 0x7ff1f05b4430>,\n",
       " <unstructured.documents.elements.CompositeElement at 0x7ff1f05b4490>,\n",
       " <unstructured.documents.elements.CompositeElement at 0x7ff1f05b4550>,\n",
       " <unstructured.documents.elements.CompositeElement at 0x7ff1f05b45e0>,\n",
       " <unstructured.documents.elements.CompositeElement at 0x7ff1f05b4640>,\n",
       " <unstructured.documents.elements.CompositeElement at 0x7ff1f05b44c0>,\n",
       " <unstructured.documents.elements.CompositeElement at 0x7ff1f05b46d0>,\n",
       " <unstructured.documents.elements.CompositeElement at 0x7ff1f05b46a0>,\n",
       " <unstructured.documents.elements.CompositeElement at 0x7ff1f05b4910>,\n",
       " <unstructured.documents.elements.CompositeElement at 0x7ff1f05b4820>,\n",
       " <unstructured.documents.elements.CompositeElement at 0x7ff1f05b4a30>,\n",
       " <unstructured.documents.elements.CompositeElement at 0x7ff1f05b4940>,\n",
       " <unstructured.documents.elements.Table at 0x7ff1f05b4a60>,\n",
       " <unstructured.documents.elements.CompositeElement at 0x7ff1f05b4970>,\n",
       " <unstructured.documents.elements.Table at 0x7ff1f05b4af0>,\n",
       " <unstructured.documents.elements.CompositeElement at 0x7ff1f05b4bb0>,\n",
       " <unstructured.documents.elements.Table at 0x7ff1f05b5060>,\n",
       " <unstructured.documents.elements.CompositeElement at 0x7ff1f05b4f40>,\n",
       " <unstructured.documents.elements.Table at 0x7ff1f05b54e0>,\n",
       " <unstructured.documents.elements.CompositeElement at 0x7ff1f05b53f0>,\n",
       " <unstructured.documents.elements.Table at 0x7ff1f05b5660>,\n",
       " <unstructured.documents.elements.CompositeElement at 0x7ff1f05b5b10>,\n",
       " <unstructured.documents.elements.CompositeElement at 0x7ff1f05b5c90>,\n",
       " <unstructured.documents.elements.CompositeElement at 0x7ff1f05b5d20>,\n",
       " <unstructured.documents.elements.CompositeElement at 0x7ff1f05b5db0>,\n",
       " <unstructured.documents.elements.CompositeElement at 0x7ff1f05b5e70>,\n",
       " <unstructured.documents.elements.CompositeElement at 0x7ff1f05b5e10>,\n",
       " <unstructured.documents.elements.Table at 0x7ff1f05b59f0>,\n",
       " <unstructured.documents.elements.CompositeElement at 0x7ff1f05b5f00>,\n",
       " <unstructured.documents.elements.Table at 0x7ff1f05b5ff0>,\n",
       " <unstructured.documents.elements.CompositeElement at 0x7ff1f05b65f0>,\n",
       " <unstructured.documents.elements.CompositeElement at 0x7ff1f05b66b0>,\n",
       " <unstructured.documents.elements.CompositeElement at 0x7ff1f05b6740>,\n",
       " <unstructured.documents.elements.Table at 0x7ff1f05b67a0>,\n",
       " <unstructured.documents.elements.CompositeElement at 0x7ff1f05b69e0>,\n",
       " <unstructured.documents.elements.Table at 0x7ff1f05b68c0>,\n",
       " <unstructured.documents.elements.CompositeElement at 0x7ff1f05b6d70>,\n",
       " <unstructured.documents.elements.Table at 0x7ff1f05b6c50>,\n",
       " <unstructured.documents.elements.CompositeElement at 0x7ff1f05b7100>,\n",
       " <unstructured.documents.elements.Table at 0x7ff1f05b6fe0>,\n",
       " <unstructured.documents.elements.CompositeElement at 0x7ff1f05b7490>,\n",
       " <unstructured.documents.elements.Table at 0x7ff1f05b7370>,\n",
       " <unstructured.documents.elements.CompositeElement at 0x7ff1f05b7820>,\n",
       " <unstructured.documents.elements.Table at 0x7ff1f05b7700>,\n",
       " <unstructured.documents.elements.CompositeElement at 0x7ff1f05b7be0>,\n",
       " <unstructured.documents.elements.Table at 0x7ff1f05b7910>,\n",
       " <unstructured.documents.elements.CompositeElement at 0x7ff1f05b7f40>,\n",
       " <unstructured.documents.elements.Table at 0x7ff1f05b7e20>,\n",
       " <unstructured.documents.elements.CompositeElement at 0x7ff1f05b7d90>,\n",
       " <unstructured.documents.elements.CompositeElement at 0x7ff1f05ec310>,\n",
       " <unstructured.documents.elements.Table at 0x7ff1f05ec160>,\n",
       " <unstructured.documents.elements.CompositeElement at 0x7ff1f05ec400>,\n",
       " <unstructured.documents.elements.Table at 0x7ff1f05ec730>,\n",
       " <unstructured.documents.elements.CompositeElement at 0x7ff1f05ec610>,\n",
       " <unstructured.documents.elements.Table at 0x7ff1f05ecac0>,\n",
       " <unstructured.documents.elements.CompositeElement at 0x7ff1f05ec9a0>,\n",
       " <unstructured.documents.elements.Table at 0x7ff1f05ece80>,\n",
       " <unstructured.documents.elements.CompositeElement at 0x7ff1f05ed1e0>,\n",
       " <unstructured.documents.elements.Table at 0x7ff1f05ed0c0>,\n",
       " <unstructured.documents.elements.CompositeElement at 0x7ff1f05ed060>,\n",
       " <unstructured.documents.elements.Table at 0x7ff1f05ed570>,\n",
       " <unstructured.documents.elements.CompositeElement at 0x7ff1f05ed7e0>,\n",
       " <unstructured.documents.elements.CompositeElement at 0x7ff1f05ed720>,\n",
       " <unstructured.documents.elements.CompositeElement at 0x7ff1f05edab0>,\n",
       " <unstructured.documents.elements.CompositeElement at 0x7ff1f05edc30>,\n",
       " <unstructured.documents.elements.CompositeElement at 0x7ff1f05edb40>,\n",
       " <unstructured.documents.elements.CompositeElement at 0x7ff1f05edba0>,\n",
       " <unstructured.documents.elements.CompositeElement at 0x7ff1f05edcc0>,\n",
       " <unstructured.documents.elements.CompositeElement at 0x7ff1f05edbd0>,\n",
       " <unstructured.documents.elements.CompositeElement at 0x7ff1f05edcf0>,\n",
       " <unstructured.documents.elements.CompositeElement at 0x7ff1f05edde0>,\n",
       " <unstructured.documents.elements.CompositeElement at 0x7ff1f05edf30>,\n",
       " <unstructured.documents.elements.CompositeElement at 0x7ff1f0724610>]"
      ]
     },
     "execution_count": 6,
     "metadata": {},
     "output_type": "execute_result"
    }
   ],
   "source": [
    "raw_pdf_elements"
   ]
  },
  {
   "cell_type": "code",
   "execution_count": 7,
   "metadata": {},
   "outputs": [
    {
     "data": {
      "text/plain": [
       "{\"<class 'unstructured.documents.elements.CompositeElement'>\": 164,\n",
       " \"<class 'unstructured.documents.elements.Table'>\": 62}"
      ]
     },
     "execution_count": 7,
     "metadata": {},
     "output_type": "execute_result"
    }
   ],
   "source": [
    "category_counts = {}\n",
    "\n",
    "for element in raw_pdf_elements:\n",
    "    category = str(type(element))\n",
    "    if category in category_counts:\n",
    "        category_counts[category] += 1\n",
    "    else:\n",
    "        category_counts[category] = 1\n",
    "\n",
    "# Unique_categories will have unique elements\n",
    "# TableChunk if Table > max chars set above\n",
    "unique_categories = set(category_counts.keys())\n",
    "category_counts"
   ]
  },
  {
   "cell_type": "code",
   "execution_count": 8,
   "metadata": {},
   "outputs": [
    {
     "name": "stdout",
     "output_type": "stream",
     "text": [
      "62\n",
      "164\n"
     ]
    }
   ],
   "source": [
    "class Element(BaseModel):\n",
    "    type: str\n",
    "    text: Any\n",
    "\n",
    "\n",
    "# Categorize by type\n",
    "categorized_elements = []\n",
    "for element in raw_pdf_elements:\n",
    "    if \"unstructured.documents.elements.Table\" in str(type(element)):\n",
    "        categorized_elements.append(Element(type=\"table\", text=str(element)))\n",
    "    elif \"unstructured.documents.elements.CompositeElement\" in str(type(element)):\n",
    "        categorized_elements.append(Element(type=\"text\", text=str(element)))\n",
    "\n",
    "# Tables\n",
    "table_elements = [e for e in categorized_elements if e.type == \"table\"]\n",
    "print(len(table_elements))\n",
    "\n",
    "# Text\n",
    "text_elements = [e for e in categorized_elements if e.type == \"text\"]\n",
    "print(len(text_elements))"
   ]
  },
  {
   "cell_type": "code",
   "execution_count": 9,
   "metadata": {},
   "outputs": [],
   "source": [
    "from langchain_community.chat_models import ChatOllama\n",
    "from langchain_core.output_parsers import StrOutputParser\n",
    "from langchain_core.prompts import ChatPromptTemplate\n",
    "# Prompt\n",
    "prompt_text = \"\"\"You are an assistant tasked with summarizing tables and text. \\\n",
    "Give a concise summary of the table or text. Table or text chunk: {element} \"\"\"\n",
    "prompt = ChatPromptTemplate.from_template(prompt_text)\n",
    "\n",
    "# Summary chain\n",
    "model = ChatOllama(model=\"llama3\")\n",
    "summarize_chain = {\"element\": lambda x: x} | prompt | model | StrOutputParser()\n",
    "\n",
    "# Apply to tables\n",
    "tables = [i.text for i in table_elements]\n",
    "table_summaries = summarize_chain.batch(tables, {\"max_concurrency\": 5})"
   ]
  },
  {
   "cell_type": "code",
   "execution_count": 10,
   "metadata": {},
   "outputs": [
    {
     "data": {
      "text/plain": [
       "'Here is a concise summary of the table:\\n\\nThe table describes important safety features in vehicles, including:\\n\\n* Seat belts and child restraint system (CRS)\\n* Supplementary Restraint System (SRS) airbags (if equipped)\\n* Child lock (if equipped)\\n* Anti-theft devices: Immobilizer/PEPS\\n* Braking systems:\\n\\t+ Anti-lock braking system (ABS) (if equipped)\\n\\t+ Electronic brake force distribution (EBD) (if equipped)\\n\\t+ Electronic stability program (ESP) (if equipped)\\n\\nThese features aim to ensure safe driving and prevent accidents.'"
      ]
     },
     "execution_count": 10,
     "metadata": {},
     "output_type": "execute_result"
    }
   ],
   "source": [
    "table_summaries[0]"
   ]
  },
  {
   "cell_type": "code",
   "execution_count": 14,
   "metadata": {},
   "outputs": [],
   "source": [
    "# add all sumaries one string\n",
    "\n",
    "table_summaries = \" \".join(table_summaries)"
   ]
  },
  {
   "cell_type": "code",
   "execution_count": 15,
   "metadata": {},
   "outputs": [],
   "source": [
    "text_splitter=RecursiveCharacterTextSplitter(\n",
    "    chunk_size=500,\n",
    "    chunk_overlap=100\n",
    ")\n",
    "\n",
    "text_chunks=text_splitter.split_documents(documents)"
   ]
  },
  {
   "cell_type": "code",
   "execution_count": 16,
   "metadata": {},
   "outputs": [],
   "source": [
    "text_splitter=RecursiveCharacterTextSplitter(\n",
    "    chunk_size=500,\n",
    "    chunk_overlap=100\n",
    ")\n",
    "\n",
    "table_chunks=text_splitter.split_text(table_summaries)"
   ]
  },
  {
   "cell_type": "code",
   "execution_count": 19,
   "metadata": {},
   "outputs": [
    {
     "name": "stderr",
     "output_type": "stream",
     "text": [
      "/home/avinash/.cache/pypoetry/virtualenvs/bosh-chat-z8M_-eKs-py3.10/lib/python3.10/site-packages/huggingface_hub/file_download.py:1132: FutureWarning: `resume_download` is deprecated and will be removed in version 1.0.0. Downloads always resume when possible. If you want to force a new download, use `force_download=True`.\n",
      "  warnings.warn(\n"
     ]
    },
    {
     "name": "stdout",
     "output_type": "stream",
     "text": [
      "Embedding model loaded\n"
     ]
    }
   ],
   "source": [
    "#loading the embedding model\n",
    "model_name=\"BAAI/bge-large-en\"\n",
    "model_kwargs={'device':'cuda'}\n",
    "\n",
    "embeddings=HuggingFaceBgeEmbeddings(model_name=model_name,model_kwargs=model_kwargs)\n",
    "\n",
    "print(\"Embedding model loaded\")"
   ]
  },
  {
   "cell_type": "code",
   "execution_count": 20,
   "metadata": {},
   "outputs": [
    {
     "name": "stdout",
     "output_type": "stream",
     "text": [
      "tables index in qdrant\n"
     ]
    }
   ],
   "source": [
    "url=\"http://localhost:6333\"\n",
    "collection_name=\"test_collection\"\n",
    "\n",
    "qdrant=Qdrant.from_documents(\n",
    "    text_chunks,\n",
    "    embeddings,\n",
    "    url=url,\n",
    "    collection_name=collection_name,\n",
    "    prefer_grpc=False\n",
    ")\n",
    "\n",
    "print(\"text index in qdrant\")\n",
    "\n",
    "#for tables\n",
    "\n",
    "qdrant=Qdrant.from_texts(\n",
    "    table_chunks,\n",
    "    embeddings,\n",
    "    url=url,\n",
    "    collection_name=collection_name,\n",
    "    prefer_grpc=False\n",
    ")\n",
    "\n",
    "print(\"tables index in qdrant\")"
   ]
  },
  {
   "cell_type": "code",
   "execution_count": 21,
   "metadata": {},
   "outputs": [
    {
     "name": "stdout",
     "output_type": "stream",
     "text": [
      "Qdrant client created\n"
     ]
    }
   ],
   "source": [
    "client=QdrantClient(url,prefer_grpc=False)\n",
    "print(\"Qdrant client created\")"
   ]
  },
  {
   "cell_type": "code",
   "execution_count": 22,
   "metadata": {},
   "outputs": [
    {
     "name": "stdout",
     "output_type": "stream",
     "text": [
      "Qdrant object created\n"
     ]
    }
   ],
   "source": [
    "db_documents=Qdrant(client=client,collection_name=collection_name,embeddings=embeddings)\n",
    "print(\"Qdrant object created\")"
   ]
  },
  {
   "cell_type": "code",
   "execution_count": 23,
   "metadata": {},
   "outputs": [
    {
     "name": "stdout",
     "output_type": "stream",
     "text": [
      "query embedded and searched in qdrant\n"
     ]
    }
   ],
   "source": [
    "query=\"what is recommended fuel economy speed for 5th gear ?\"\n",
    "\n",
    "docs=db_documents.similarity_search_with_score(query=query,k=5)\n",
    "print(\"query embedded and searched in qdrant\")"
   ]
  },
  {
   "cell_type": "code",
   "execution_count": 25,
   "metadata": {},
   "outputs": [
    {
     "name": "stdout",
     "output_type": "stream",
     "text": [
      "(Document(page_content='STARTING AND DRIVING\\nRecommended Fuel Economy gears. • Always follow periodic & regular serv-\\nSpeeds (MT) • Make sure that vehicle is completely ice schedule of the vehicle.\\nstationary before you attempt to shift in • In places with high dust content (e.g.:\\nDiesel Petrol\\nGear reverse gear. Gurgaon, Jaisalmer etc.), Clean the air\\nSpeed(kmph) Speed(kmph)\\n• Drive slowly on wet roads. filter element at every 5000 km.\\n1 20 20', metadata={'Author': 'SYSTEM', 'CreationDate': \"D:20220930145512+05'30'\", 'Creator': 'QuarkXPress(R) 14.37r2', 'ModDate': \"D:20221007170919+05'30'\", 'Producer': 'QuarkXPress(R) 14.37r2', 'Title': 'OM', 'XPressPrivate': '%%EndComments', 'file_path': 'pdfs/nexon-owner-manual-2022.pdf', 'page': 123, 'source': 'pdfs/nexon-owner-manual-2022.pdf', 'total_pages': 241, '_id': '297acae6-5194-40b2-9fa8-285f871baf7d', '_collection_name': 'test_collection'}), 0.8724079)\n",
      "\n",
      "\n",
      "\n",
      "(Document(page_content='Speed(kmph) Speed(kmph)\\n• Drive slowly on wet roads. filter element at every 5000 km.\\n1 20 20\\n• You can get extra braking from the en- • Anticipate the road conditions and\\n2 30 30 gine by shifting to a lower gear. This drive in a smooth manner.\\n3 45 45 can help you to maintain a safe speed • Do not accelerate excessively when\\n4 65 65 and prevent your brakes from over- you are in lower gears (1st or 2nd). Be\\n5 80 80 heating specially while going down a gentle on the accelerator when you are', metadata={'Author': 'SYSTEM', 'CreationDate': \"D:20220930145512+05'30'\", 'Creator': 'QuarkXPress(R) 14.37r2', 'ModDate': \"D:20221007170919+05'30'\", 'Producer': 'QuarkXPress(R) 14.37r2', 'Title': 'OM', 'XPressPrivate': '%%EndComments', 'file_path': 'pdfs/nexon-owner-manual-2022.pdf', 'page': 123, 'source': 'pdfs/nexon-owner-manual-2022.pdf', 'total_pages': 241, '_id': 'cf523454-bb32-4fbc-815c-83596ef4c778', '_collection_name': 'test_collection'}), 0.8440955)\n",
      "\n",
      "\n",
      "\n",
      "(Document(page_content='Average Fuel Economy will be dis-played\\non the display even if the actual\\nas ‘—.—‘for initial 0.5 km of respective trip.\\nINST FE is higher than 30 km/l.\\nOnce 0.5 km distance is covered, Average\\nFuel Economy will be displayed.\\nEven after 0.5 km distance covered for\\nIt indicates approximate distance in ‘km’\\n57', metadata={'Author': 'SYSTEM', 'CreationDate': \"D:20220930145512+05'30'\", 'Creator': 'QuarkXPress(R) 14.37r2', 'ModDate': \"D:20221007170919+05'30'\", 'Producer': 'QuarkXPress(R) 14.37r2', 'Title': 'OM', 'XPressPrivate': '%%EndComments', 'file_path': 'pdfs/nexon-owner-manual-2022.pdf', 'page': 65, 'source': 'pdfs/nexon-owner-manual-2022.pdf', 'total_pages': 241, '_id': '2f59bfd8-748d-4d5e-b5d5-6c4006adf02d', '_collection_name': 'test_collection'}), 0.8434552)\n",
      "\n",
      "\n",
      "\n",
      "(Document(page_content='The table presents specifications for a vehicle, including maximum speed, recommended gradeability, and turning circle diameter. The specs vary slightly depending on whether the vehicle uses diesel or petrol fuel. Key values include:\\n\\n* Maximum speed: 160 kmph (petrol) or 1656-1730 (diesel)\\n* Recommended gradeability: 1246-1320 (petrol) or 1578-1669 (diesel)\\n* Turning circle diameter: 10.2 m (petrol) or 10.8 m (diesel)', metadata={'_id': 'ce0d595b-19e4-412a-9a58-41bd8cfd5148', '_collection_name': 'test_collection'}), 0.8416468)\n",
      "\n",
      "\n",
      "\n",
      "(Document(page_content='The table shows the relationship between gear, fuel type (diesel or petrol), and speed (in kmph) for six different speeds. The speeds increase from 20 to 100 kmph in increments of 15-20 kmph. There are three rows representing diesel, petrol, and no distinction between fuel types. Here is a concise summary of the table or text:', metadata={'_id': '5c33d694-521f-49bb-85c1-e4b035a1fb3f', '_collection_name': 'test_collection'}), 0.8411756)\n",
      "\n",
      "\n",
      "\n"
     ]
    }
   ],
   "source": [
    "for doc in docs:\n",
    "    print(doc)\n",
    "    print(\"\\n\\n\")"
   ]
  },
  {
   "cell_type": "code",
   "execution_count": 26,
   "metadata": {},
   "outputs": [
    {
     "name": "stdout",
     "output_type": "stream",
     "text": [
      "Qdrant object converted to retriever\n",
      "tags=['Qdrant', 'HuggingFaceBgeEmbeddings'] vectorstore=<langchain_community.vectorstores.qdrant.Qdrant object at 0x7ff2443ce260>\n"
     ]
    }
   ],
   "source": [
    "retriever = qdrant.as_retriever()\n",
    "print(\"Qdrant object converted to retriever\")\n",
    "print(retriever)"
   ]
  },
  {
   "cell_type": "code",
   "execution_count": 27,
   "metadata": {},
   "outputs": [],
   "source": [
    "from langchain_community.chat_models import ChatOllama\n",
    "from langchain_core.output_parsers import StrOutputParser\n",
    "from langchain_core.prompts import ChatPromptTemplate\n",
    "from langchain_core.runnables import RunnablePassthrough"
   ]
  },
  {
   "cell_type": "code",
   "execution_count": 56,
   "metadata": {},
   "outputs": [],
   "source": [
    "#working prompts :-\n",
    "#Answer the question based only on the following context, if the question has anything unrelated please ask a probing question and keep it short and dont tell anything else only the question, which can include text and tables\n",
    "#\n",
    "\n",
    "\n",
    "# Prompt template\n",
    "template = \"\"\"Answer the question based only on the following context, \n",
    "which can include text and tables,\n",
    "if answer is present in tables, please provide in good format,\n",
    "if the question has anything unrelated please ask a probing question,\n",
    "{context}\n",
    "Question: {question}\n",
    "\"\"\"\n",
    "prompt = ChatPromptTemplate.from_template(template)\n",
    "\n",
    "# Option 1: LLM\n",
    "model = ChatOllama(model=\"llama3\")\n",
    "# Option 2: Multi-modal LLM\n",
    "# model = LLaVA\n",
    "\n",
    "# RAG pipeline\n",
    "chain = (\n",
    "    {\"context\": retriever, \"question\": RunnablePassthrough()}\n",
    "    | prompt\n",
    "    | model\n",
    "    | StrOutputParser()\n",
    ")"
   ]
  },
  {
   "cell_type": "code",
   "execution_count": 61,
   "metadata": {},
   "outputs": [],
   "source": [
    "chat = chain.invoke(\"In functions and settings of climate contro what is control knob position of blower speed for normal temperature ?\")"
   ]
  },
  {
   "cell_type": "code",
   "execution_count": 62,
   "metadata": {},
   "outputs": [
    {
     "name": "stdout",
     "output_type": "stream",
     "text": [
      "Based on the provided context, I found the relevant information in the table:\n",
      "\n",
      "```\n",
      "Functions\n",
      "Normal heating\n",
      "2nd or 3rd dot\n",
      "Desired temp.\n",
      "Fresh air mode\n",
      "As desired\n",
      "\n",
      "or\n",
      "Briefly switch ON to...\n",
      "```\n",
      "\n",
      "The control knob position for normal temperature and blower speed is not explicitly mentioned. However, we can infer that the \"2nd or 3rd dot\" refers to the control knob position.\n",
      "\n",
      "To answer your question, I would like to clarify what you mean by \"normal temperature\". Are you referring to a specific temperature setting, such as 22°C (72°F)? If so, could you please provide more context or specify the exact temperature?\n"
     ]
    }
   ],
   "source": [
    "print(chat)"
   ]
  },
  {
   "cell_type": "code",
   "execution_count": null,
   "metadata": {},
   "outputs": [],
   "source": []
  }
 ],
 "metadata": {
  "kernelspec": {
   "display_name": "base",
   "language": "python",
   "name": "python3"
  },
  "language_info": {
   "codemirror_mode": {
    "name": "ipython",
    "version": 3
   },
   "file_extension": ".py",
   "mimetype": "text/x-python",
   "name": "python",
   "nbconvert_exporter": "python",
   "pygments_lexer": "ipython3",
   "version": "3.10.12"
  }
 },
 "nbformat": 4,
 "nbformat_minor": 2
}
